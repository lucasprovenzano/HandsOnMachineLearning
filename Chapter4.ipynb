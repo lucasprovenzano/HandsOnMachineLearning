{
  "nbformat": 4,
  "nbformat_minor": 0,
  "metadata": {
    "colab": {
      "name": "Chapter4.ipynb",
      "provenance": [],
      "authorship_tag": "ABX9TyPdQoCoSnBcqZFfjmgm88C+",
      "include_colab_link": true
    },
    "kernelspec": {
      "name": "python3",
      "display_name": "Python 3"
    }
  },
  "cells": [
    {
      "cell_type": "markdown",
      "metadata": {
        "id": "view-in-github",
        "colab_type": "text"
      },
      "source": [
        "<a href=\"https://colab.research.google.com/github/lucasprovenzano/HandsOnMachineLearning/blob/main/Chapter4.ipynb\" target=\"_parent\"><img src=\"https://colab.research.google.com/assets/colab-badge.svg\" alt=\"Open In Colab\"/></a>"
      ]
    },
    {
      "cell_type": "code",
      "metadata": {
        "colab": {
          "base_uri": "https://localhost:8080/",
          "height": 283
        },
        "id": "hKEs7_sBudox",
        "outputId": "1a3cde79-d4c4-415c-c8c1-96bf711b95a3"
      },
      "source": [
        "# Linear Regression. \n",
        "import numpy as np\n",
        "import matplotlib.pyplot as plt\n",
        "\n",
        "X = 2 * np.random.rand(100,1)\n",
        "y = 4 + 3 * X + np.random.rand(100,1)\n",
        "\n",
        "plt.scatter(X,y)\n",
        "plt.grid()\n",
        "plt.ylabel(\"y\", fontsize=14)\n",
        "plt.xlabel(\"X\", fontsize=14)\n",
        "plt.show()"
      ],
      "execution_count": 1,
      "outputs": [
        {
          "output_type": "display_data",
          "data": {
            "image/png": "[encoded data removed]",
            "text/plain": [
              "<Figure size 432x288 with 1 Axes>"
            ]
          },
          "metadata": {
            "tags": [],
            "needs_background": "light"
          }
        }
      ]
    },
    {
      "cell_type": "code",
      "metadata": {
        "colab": {
          "base_uri": "https://localhost:8080/"
        },
        "id": "wBewUtbZzPL-",
        "outputId": "9ffcdcc9-6710-4d3d-b965-ce3a2631aa8c"
      },
      "source": [
        "# Compute parameters using normal equation. \n",
        "\n",
        "X_b = np.c_[np.ones((100,1)), X]\n",
        "theta_best = np.linalg.inv(X_b.T.dot(X_b)).dot(X_b.T).dot(y)\n",
        "theta_best"
      ],
      "execution_count": 2,
      "outputs": [
        {
          "output_type": "execute_result",
          "data": {
            "text/plain": [
              "array([[4.48719869],\n",
              "       [3.02012898]])"
            ]
          },
          "metadata": {
            "tags": []
          },
          "execution_count": 2
        }
      ]
    },
    {
      "cell_type": "code",
      "metadata": {
        "colab": {
          "base_uri": "https://localhost:8080/"
        },
        "id": "scChUlGZzwBa",
        "outputId": "25435000-d016-4587-bce1-f3b1a0e02b3b"
      },
      "source": [
        "# Making a prediction fit the calculated parameters. \n",
        "X_new = np.array([[0],[2]])\n",
        "X_new_b = np.c_[np.ones((2,1)),X_new]\n",
        "y_predict = X_new_b.dot(theta_best)\n",
        "y_predict"
      ],
      "execution_count": 3,
      "outputs": [
        {
          "output_type": "execute_result",
          "data": {
            "text/plain": [
              "array([[ 4.48719869],\n",
              "       [10.52745665]])"
            ]
          },
          "metadata": {
            "tags": []
          },
          "execution_count": 3
        }
      ]
    },
    {
      "cell_type": "code",
      "metadata": {
        "colab": {
          "base_uri": "https://localhost:8080/",
          "height": 283
        },
        "id": "F3e83MfI0Wxs",
        "outputId": "8f03c178-5cb2-4c56-e03f-16739e7cc5d9"
      },
      "source": [
        "# Plotting the predictions. \n",
        "plt.plot(X_new, y_predict, \"r-\")\n",
        "plt.plot(X, y, \"b.\")\n",
        "plt.axis([0, 2, 0, 15])\n",
        "plt.grid()\n",
        "plt.ylabel(\"y\", fontsize=14)\n",
        "plt.xlabel(\"X\", fontsize=14)\n",
        "plt.show()"
      ],
      "execution_count": 4,
      "outputs": [
        {
          "output_type": "display_data",
          "data": {
            "image/png": "[encoded data removed]",
            "text/plain": [
              "<Figure size 432x288 with 1 Axes>"
            ]
          },
          "metadata": {
            "tags": [],
            "needs_background": "light"
          }
        }
      ]
    },
    {
      "cell_type": "code",
      "metadata": {
        "colab": {
          "base_uri": "https://localhost:8080/"
        },
        "id": "fRvWPtm406-p",
        "outputId": "44f0b9f4-f33b-4147-8b7f-22005a7c9088"
      },
      "source": [
        "# Linear regression using SciKitLearn. \n",
        "from sklearn.linear_model import LinearRegression \n",
        "lin_reg = LinearRegression()\n",
        "lin_reg.fit(X,y)\n",
        "print([lin_reg.intercept_, lin_reg.coef_])\n",
        "lin_reg.predict(X_new)"
      ],
      "execution_count": 5,
      "outputs": [
        {
          "output_type": "stream",
          "text": [
            "[array([4.48719869]), array([[3.02012898]])]\n"
          ],
          "name": "stdout"
        },
        {
          "output_type": "execute_result",
          "data": {
            "text/plain": [
              "array([[ 4.48719869],\n",
              "       [10.52745665]])"
            ]
          },
          "metadata": {
            "tags": []
          },
          "execution_count": 5
        }
      ]
    },
    {
      "cell_type": "code",
      "metadata": {
        "colab": {
          "base_uri": "https://localhost:8080/"
        },
        "id": "r9u9qwpW2E6P",
        "outputId": "3948f4c0-ce5b-480d-8d28-eb80e962830d"
      },
      "source": [
        "theta_best_svd, residuals, rank, s = np.linalg.lstsq(X_b, y, rcond=1e-6)\n",
        "theta_best_svd"
      ],
      "execution_count": 6,
      "outputs": [
        {
          "output_type": "execute_result",
          "data": {
            "text/plain": [
              "array([[4.48719869],\n",
              "       [3.02012898]])"
            ]
          },
          "metadata": {
            "tags": []
          },
          "execution_count": 6
        }
      ]
    },
    {
      "cell_type": "code",
      "metadata": {
        "colab": {
          "base_uri": "https://localhost:8080/"
        },
        "id": "4IXvpkmH2leg",
        "outputId": "9d3cdff0-9f7f-4771-e9d0-221e1d2773f2"
      },
      "source": [
        "# Calculating pseudo inverse matrix. \n",
        "np.linalg.pinv(X_b).dot(y)"
      ],
      "execution_count": 7,
      "outputs": [
        {
          "output_type": "execute_result",
          "data": {
            "text/plain": [
              "array([[4.48719869],\n",
              "       [3.02012898]])"
            ]
          },
          "metadata": {
            "tags": []
          },
          "execution_count": 7
        }
      ]
    },
    {
      "cell_type": "code",
      "metadata": {
        "colab": {
          "base_uri": "https://localhost:8080/"
        },
        "id": "U7lIt3xXEZkw",
        "outputId": "6e156626-6285-4ae1-a313-3d5c5a02cb32"
      },
      "source": [
        "# Gradient descent step. \n",
        "eta = 0.1 # learning rate - to find the right LR use grid shearch.  \n",
        "n_iterations = 1000\n",
        "m = 100\n",
        "\n",
        "theta = np.random.randn(2,1) # random initialization. \n",
        "for iteration in range(n_iterations):\n",
        "  gradients = 2/m * X_b.T.dot(X_b.dot(theta) - y)\n",
        "  theta = theta - eta * gradients\n",
        "\n",
        "theta"
      ],
      "execution_count": 9,
      "outputs": [
        {
          "output_type": "execute_result",
          "data": {
            "text/plain": [
              "array([[4.48719869],\n",
              "       [3.02012898]])"
            ]
          },
          "metadata": {
            "tags": []
          },
          "execution_count": 9
        }
      ]
    },
    {
      "cell_type": "code",
      "metadata": {
        "colab": {
          "base_uri": "https://localhost:8080/"
        },
        "id": "1ZLGJhFQG1Mb",
        "outputId": "29985033-f202-4d9a-aa55-11ad43fd4b7a"
      },
      "source": [
        "# Stochastic Gradient Decent. \n",
        "\n",
        "n_epochs = 50\n",
        "t0, t1 = 5, 50 #learning schedule hyperparameters.\n",
        "\n",
        "def learning_schedule(t):\n",
        "  return t0 / (t + t1)\n",
        "\n",
        "theta = np.random.randn(2,1) # random initialization\n",
        "\n",
        "for epoch in range(n_epochs):\n",
        "  for i in range (m):\n",
        "    random_index = np.random.randint(m)\n",
        "    xi = X_b[random_index:random_index+1]\n",
        "    yi = y[random_index:random_index+1]\n",
        "    gradients = 2 * xi.T.dot(xi.dot(theta) - yi)\n",
        "    eta = learning_schedule(epoch * m + i)\n",
        "    theta = theta -eta * gradients\n",
        "\n",
        "theta"
      ],
      "execution_count": 11,
      "outputs": [
        {
          "output_type": "execute_result",
          "data": {
            "text/plain": [
              "array([[4.49949775],\n",
              "       [3.01153821]])"
            ]
          },
          "metadata": {
            "tags": []
          },
          "execution_count": 11
        }
      ]
    },
    {
      "cell_type": "code",
      "metadata": {
        "colab": {
          "base_uri": "https://localhost:8080/"
        },
        "id": "GNY6aZaOI3DT",
        "outputId": "7a90e172-ebff-48ad-b5e2-636cb8f137a8"
      },
      "source": [
        "# SGD using SKL. \n",
        "from sklearn.linear_model import SGDRegressor\n",
        "sgd_reg = SGDRegressor(max_iter = 1000, tol = 1e-3, penalty=None, eta0=0.1)\n",
        "sgd_reg.fit(X, y.ravel())"
      ],
      "execution_count": 12,
      "outputs": [
        {
          "output_type": "execute_result",
          "data": {
            "text/plain": [
              "SGDRegressor(alpha=0.0001, average=False, early_stopping=False, epsilon=0.1,\n",
              "             eta0=0.1, fit_intercept=True, l1_ratio=0.15,\n",
              "             learning_rate='invscaling', loss='squared_loss', max_iter=1000,\n",
              "             n_iter_no_change=5, penalty=None, power_t=0.25, random_state=None,\n",
              "             shuffle=True, tol=0.001, validation_fraction=0.1, verbose=0,\n",
              "             warm_start=False)"
            ]
          },
          "metadata": {
            "tags": []
          },
          "execution_count": 12
        }
      ]
    },
    {
      "cell_type": "code",
      "metadata": {
        "colab": {
          "base_uri": "https://localhost:8080/"
        },
        "id": "sKshjdqkJRaU",
        "outputId": "7d3dfebc-b27c-45b5-a4a9-f2bed61bbeca"
      },
      "source": [
        "sgd_reg.intercept_, sgd_reg.coef_"
      ],
      "execution_count": 13,
      "outputs": [
        {
          "output_type": "execute_result",
          "data": {
            "text/plain": [
              "(array([4.45327041]), array([3.01139892]))"
            ]
          },
          "metadata": {
            "tags": []
          },
          "execution_count": 13
        }
      ]
    }
  ]
}