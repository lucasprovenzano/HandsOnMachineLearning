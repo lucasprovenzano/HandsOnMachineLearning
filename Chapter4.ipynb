{
  "nbformat": 4,
  "nbformat_minor": 0,
  "metadata": {
    "colab": {
      "name": "Chapter4.ipynb",
      "provenance": [],
      "authorship_tag": "ABX9TyMSZEncR874cUTiaPQoKar7",
      "include_colab_link": true
    },
    "kernelspec": {
      "name": "python3",
      "display_name": "Python 3"
    }
  },
  "cells": [
    {
      "cell_type": "markdown",
      "metadata": {
        "id": "view-in-github",
        "colab_type": "text"
      },
      "source": [
        "<a href=\"https://colab.research.google.com/github/lucasprovenzano/HandsOnMachineLearning/blob/main/Chapter4.ipynb\" target=\"_parent\"><img src=\"https://colab.research.google.com/assets/colab-badge.svg\" alt=\"Open In Colab\"/></a>"
      ]
    },
    {
      "cell_type": "code",
      "metadata": {
        "colab": {
          "base_uri": "https://localhost:8080/",
          "height": 286
        },
        "id": "hKEs7_sBudox",
        "outputId": "a9526b6f-c9c6-4af2-9486-4a5d83147fc2"
      },
      "source": [
        "# Linear Regression. \n",
        "import numpy as np\n",
        "import matplotlib.pyplot as plt\n",
        "\n",
        "X = 2 * np.random.rand(100,1)\n",
        "y = 4 + 3 * X + np.random.rand(100,1)\n",
        "\n",
        "plt.scatter(X,y)\n",
        "plt.grid()\n",
        "plt.ylabel(\"y\", fontsize=14)\n",
        "plt.xlabel(\"X\", fontsize=14)\n",
        "plt.show()"
      ],
      "execution_count": 7,
      "outputs": [
        {
          "output_type": "display_data",
          "data": {
            "image/png": "[encoded data removed]",
            "text/plain": [
              "<Figure size 432x288 with 1 Axes>"
            ]
          },
          "metadata": {
            "tags": [],
            "needs_background": "light"
          }
        }
      ]
    },
    {
      "cell_type": "code",
      "metadata": {
        "colab": {
          "base_uri": "https://localhost:8080/"
        },
        "id": "wBewUtbZzPL-",
        "outputId": "572b8e08-48cf-42ae-9ffe-94d79ff39113"
      },
      "source": [
        "# Compute parameters using normal equation. \n",
        "\n",
        "X_b = np.c_[np.ones((100,1)), X]\n",
        "theta_best = np.linalg.inv(X_b.T.dot(X_b)).dot(X_b.T).dot(y)\n",
        "theta_best"
      ],
      "execution_count": 9,
      "outputs": [
        {
          "output_type": "execute_result",
          "data": {
            "text/plain": [
              "array([[4.39769539],\n",
              "       [3.07032928]])"
            ]
          },
          "metadata": {
            "tags": []
          },
          "execution_count": 9
        }
      ]
    },
    {
      "cell_type": "code",
      "metadata": {
        "id": "scChUlGZzwBa"
      },
      "source": [
        "# M"
      ],
      "execution_count": null,
      "outputs": []
    }
  ]
}